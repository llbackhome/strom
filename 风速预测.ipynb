{
 "cells": [
  {
   "cell_type": "code",
   "execution_count": 1,
   "id": "1b501f7a-f3d6-456a-818e-431cfdf86980",
   "metadata": {},
   "outputs": [],
   "source": [
    "#导入包\n",
    "import torch\n",
    "import torch.nn as nn\n",
    "from torch.utils.data import Dataset, DataLoader, BatchSampler\n",
    "from torchvision.transforms import Compose, ToTensor, Normalize, Resize\n",
    "import torchvision.transforms as transforms\n",
    "import os\n",
    "from PIL import Image, UnidentifiedImageError\n",
    "from torch.utils.data import ConcatDataset\n",
    "from torch.utils.data import Dataset, Subset\n",
    "\n",
    "import matplotlib.pyplot as plt\n",
    "import torch.nn.functional as F\n",
    "import random\n",
    "from IPython.display import Image as pyimage\n",
    "import glob\n",
    "from sklearn.model_selection import train_test_split\n",
    "from sklearn.metrics import accuracy_score\n",
    "import json\n",
    "from operator import itemgetter\n",
    "import math\n",
    "from torchvision.models import resnet101\n",
    "import matplotlib.pyplot as plt\n",
    "\n",
    "import numpy as np\n",
    "import pandas as pd"
   ]
  },
  {
   "cell_type": "code",
   "execution_count": 2,
   "id": "185ffa38-9e65-4269-895c-96775765115b",
   "metadata": {},
   "outputs": [
    {
     "name": "stdout",
     "output_type": "stream",
     "text": [
      "Cuda installed! Running on GPU!\n"
     ]
    }
   ],
   "source": [
    "device = 'mps'\n",
    "if torch.cuda.device_count() > 0 and torch.cuda.is_available():\n",
    "    print(\"Cuda installed! Running on GPU!\")\n",
    "    device = 'cuda'\n",
    "else:\n",
    "    print(\"M1 GPU\")\n"
   ]
  },
  {
   "cell_type": "markdown",
   "id": "3e41fb3d-00ab-4aed-8289-fabc245affd0",
   "metadata": {},
   "source": [
    "数据预处理\n",
    "确定输入数据\n",
    "\n",
    "在模型中，我们将图像数据和速度序列一起放入模型中，因此我们需要将这两个部分分开处理。对于每场风暴，我们使用函数来制作序列。在我们的模型中，序列的长度是 11。_get_storm_sequences\n",
    "\n",
    "同时，我们在函数中处理、裁剪（调整大小）和归一化图像。[3,128,128]__getitem__\n",
    "\n",
    "模型输入：模型采用两个输入：\n",
    "\n",
    "x_3d：表示一批图像序列的张量，形状为 。(batch_size, seq_length, C, H, W)\n",
    "scalar_inputs：表示批处理中每个序列的附加标量输入（风速）的张量，形状为 。(batch_size, scalar_input_size)"
   ]
  },
  {
   "cell_type": "code",
   "execution_count": 3,
   "id": "5f091a2d-0fbd-4356-9d87-d0963eddf14c",
   "metadata": {},
   "outputs": [],
   "source": [
    "class StormDatasetCNNLSTM(Dataset):\n",
    "    \"\"\"\n",
    "   一个数据集类，用于使用CNN-LSTM架构处理风暴图像序列。\n",
    "\n",
    "参数:\n",
    "root（str）:数据集的目录路径。\n",
    "变换（bool）:将预定义变换应用于图像的标志。\n",
    "sequence length（int）:每个序列中的图像数。\n",
    "    \"\"\"\n",
    "\n",
    "    def __init__(self, root, transform=True, sequence_length=5):\n",
    "        self.transform = transform\n",
    "        self.root = root\n",
    "        self.sequence_length = sequence_length\n",
    "        self.data = self._get_all_storm_sequences()\n",
    "\n",
    "    def _get_all_storm_sequences(self):\n",
    "        \"\"\"从数据集检索所有风暴序列.\"\"\"\n",
    "        return self._get_storm_sequences(self.root)\n",
    "\n",
    "    def _get_storm_sequences(self, storm_path):\n",
    "        \"\"\"获取风暴图像序列及其标签。\"\"\"\n",
    "        paths_labels = self._get_image_paths(storm_path)\n",
    "        sequences = []\n",
    "        for i in range(len(paths_labels) - self.sequence_length):\n",
    "            sequence = [path for path, _, _ in paths_labels[i:i + self.sequence_length]]\n",
    "            label = paths_labels[i + self.sequence_length - 1][2]\n",
    "            sequences.append((sequence, label))\n",
    "        return sequences\n",
    "\n",
    "    def _get_image_paths(self, storm_path, exts=(\".jpg\")):\n",
    "        \"\"\"检索图像路径及其标签.\"\"\"\n",
    "        data = []\n",
    "        for root, dirs, files in os.walk(storm_path):\n",
    "            for file in files:\n",
    "                if file.endswith(exts):\n",
    "                    img_path = os.path.join(root, file)\n",
    "                    num_path = img_path.removesuffix('.jpg')\n",
    "                    try:\n",
    "                        label_path = num_path + \"_label.json\"\n",
    "                        features_path = num_path + \"_features.json\"\n",
    "                        time_feature, label = None, None\n",
    "                        if os.path.exists(features_path) and os.path.exists(label_path):\n",
    "                            with open(features_path, 'r') as f:\n",
    "                                features = json.load(f)\n",
    "                                time_feature = int(features.get('relative_time'))\n",
    "                            with open(label_path, 'r') as f:\n",
    "                                label_data = json.load(f)\n",
    "                                label = int(label_data['wind_speed'])\n",
    "                            data.append((img_path, time_feature, label))\n",
    "                    except UnidentifiedImageError:\n",
    "                        print(f'Image loading error at {img_path}')\n",
    "                        pass\n",
    "\n",
    "        data.sort(key=lambda x: x[1])\n",
    "        return data\n",
    "\n",
    "    def __getitem__(self, idx):\n",
    "        \"\"\"返回单个风暴图像序列及其标签.\"\"\"\n",
    "        sequence_paths, final_label = self.data[idx]\n",
    "        images, labels = [], []\n",
    "\n",
    "        for img_path in sequence_paths[:-1]:\n",
    "            img = Image.open(img_path).convert('RGB')\n",
    "            if self.transform:\n",
    "                img = self._apply_transforms(img)\n",
    "            images.append(img)\n",
    "\n",
    "            num_path = img_path.removesuffix('.jpg')\n",
    "            label_path = num_path + \"_label.json\"\n",
    "            with open(label_path, 'r') as f:\n",
    "                label_data = json.load(f)\n",
    "                label = int(label_data['wind_speed'])\n",
    "            labels.append(label)\n",
    "\n",
    "        labels_tensor = torch.tensor(labels[:-1], dtype=torch.int)\n",
    "\n",
    "       \n",
    "        target_img_path = sequence_paths[-1]\n",
    "        target_img = Image.open(target_img_path).convert('RGB')\n",
    "        if self.transform:\n",
    "            target_img = self._apply_transforms(target_img)\n",
    "\n",
    "        return torch.stack(images), labels_tensor, final_label\n",
    "\n",
    "    def _apply_transforms(self, img):\n",
    "        \"\"\"将预定义的变换应用于图像.\"\"\"\n",
    "        transform = transforms.Compose([\n",
    "            transforms.CenterCrop(128),\n",
    "            transforms.ToTensor(),\n",
    "            transforms.Normalize(mean=(0.485, 0.456, 0.406), std=(0.229, 0.224, 0.225)),\n",
    "        ])\n",
    "        return transform(img)\n",
    "\n",
    "    def __len__(self):\n",
    "        \"\"\"返回数据集中的样本总数.\"\"\"\n",
    "        return len(self.data)\n",
    "\n",
    "    def __str__(self):\n",
    "        \"\"\"返回数据集对象的字符串表示法.\"\"\"\n",
    "        class_info = self.__class__.__name__\n",
    "        class_info += f\"\\n\\tLength: {self.__len__()}\"\n",
    "        for key, value in self.__dict__.items():\n",
    "            class_info += f\"\\n\\t{key}: {value}\"\n",
    "        return class_info"
   ]
  },
  {
   "cell_type": "code",
   "execution_count": 12,
   "id": "a4332f95-0717-4494-a260-7cd6f959e771",
   "metadata": {},
   "outputs": [],
   "source": [
    "from torch.utils.data import ConcatDataset, Subset\n",
    "from torchvision import transforms\n",
    "\n",
    "def seq_dataset(storm_list, sequence_length=11):\n",
    "    \"\"\"\n",
    "   从风暴列表中创建关联的训练、验证和测试数据集。\n",
    "\n",
    "参数:\n",
    "storm_list（str列表）:风暴标识符或路径列表。\n",
    "sequence length（int）:每个样本的序列长度。\n",
    "\n",
    "返回情况:\n",
    "元组:包含串联的训练、测试和验证数据集的元组。\n",
    "    \"\"\"\n",
    "    storm_train_datasets = []\n",
    "    storm_test_datasets = []\n",
    "    storm_val_datasets = []\n",
    "\n",
    "    for storm in storm_list:\n",
    "        storm_path =  f'storm/{storm}'\n",
    "        print(storm_path)\n",
    "\n",
    "        storm_dataset = StormDatasetCNNLSTM(storm_path, sequence_length=sequence_length)\n",
    "\n",
    "       \n",
    "        total_size = len(storm_dataset)\n",
    "        train_size = int(0.8 * total_size)\n",
    "        val_size = int(0.1 * total_size)\n",
    "        test_size = total_size - (train_size + val_size)\n",
    "\n",
    "        train_indices = list(range(0, train_size))\n",
    "        val_indices = list(range(train_size, train_size + val_size))\n",
    "        test_indices = list(range(train_size + val_size, total_size))\n",
    "\n",
    "        train_dataset = Subset(storm_dataset, train_indices)\n",
    "        val_dataset = Subset(storm_dataset, val_indices)\n",
    "        test_dataset = Subset(storm_dataset, test_indices)\n",
    "\n",
    "        print(len(train_dataset), len(val_dataset), len(test_dataset))\n",
    "\n",
    "        storm_train_datasets.append(train_dataset)\n",
    "        storm_val_datasets.append(val_dataset)\n",
    "        storm_test_datasets.append(test_dataset)\n",
    "\n",
    "    return ConcatDataset(storm_train_datasets), ConcatDataset(storm_val_datasets), ConcatDataset(storm_test_datasets)"
   ]
  },
  {
   "cell_type": "code",
   "execution_count": 13,
   "id": "d34580d2-e16d-4b07-a135-1ef3eeb9d697",
   "metadata": {},
   "outputs": [
    {
     "name": "stdout",
     "output_type": "stream",
     "text": [
      "storm/hig\n",
      "264 33 34\n",
      "storm/gme\n",
      "158 19 21\n",
      "storm/woc\n",
      "129 16 17\n",
      "storm/blq\n",
      "81 10 11\n",
      "storm/kqu\n",
      "237 29 31\n",
      "storm/wsy\n",
      "372 46 48\n",
      "storm/ipa\n",
      "350 43 45\n",
      "storm/ztb\n",
      "197 24 26\n",
      "storm/gkf\n",
      "263 32 34\n",
      "storm/qpq\n",
      "198 24 26\n",
      "storm/pjj\n",
      "179 22 23\n",
      "storm/rml\n",
      "203 25 26\n",
      "storm/xjo\n",
      "244 30 32\n",
      "storm/vxf\n",
      "172 21 23\n",
      "storm/fgi\n",
      "190 23 25\n",
      "storm/fna\n",
      "252 31 32\n",
      "storm/ing\n",
      "389 48 50\n",
      "storm/yfn\n",
      "136 17 17\n",
      "storm/ywf\n",
      "115 14 15\n",
      "storm/mtw\n",
      "271 33 35\n",
      "storm/eoi\n",
      "381 47 49\n",
      "storm/sxb\n",
      "185 23 24\n",
      "storm/vye\n",
      "190 23 25\n",
      "storm/zny\n",
      "312 39 40\n",
      "storm/psz\n",
      "294 36 38\n",
      "storm/pvj\n",
      "176 22 23\n",
      "storm/dzw\n",
      "284 35 37\n",
      "storm/ojv\n",
      "327 40 42\n"
     ]
    }
   ],
   "source": [
    "storm_list = ['hig', 'gme', 'woc', 'blq', 'kqu', 'wsy',\n",
    "              'ipa', 'ztb', 'gkf', 'qpq', 'pjj', 'rml',\n",
    "              'xjo', 'vxf', 'fgi', 'fna', 'ing', 'yfn',\n",
    "              'ywf', 'mtw', 'eoi', 'sxb', 'vye', 'zny',\n",
    "              'psz', 'pvj', 'dzw', 'ojv']\n",
    "\n",
    "train_dataset, test_dataset, val_dataset = seq_dataset(storm_list = storm_list)"
   ]
  },
  {
   "cell_type": "code",
   "execution_count": 14,
   "id": "0e17bc9b-1936-4ef4-9187-c6360b72f912",
   "metadata": {},
   "outputs": [
    {
     "name": "stdout",
     "output_type": "stream",
     "text": [
      "6549\n"
     ]
    }
   ],
   "source": [
    "print(train_dataset.__len__())"
   ]
  },
  {
   "cell_type": "code",
   "execution_count": 15,
   "id": "3d976e2b-b5db-4c8a-951c-b08b30a54ead",
   "metadata": {},
   "outputs": [],
   "source": [
    "class CNNLSTM(nn.Module):\n",
    "    \"\"\"\n",
    "    用于处理具有额外纯量输入的图像序列的CNN-LSTM模型。\n",
    "\n",
    "    该模型结合了卷积层，用于从图像中提取空间特征\n",
    "    以及LSTM层，用于捕获提取的特征序列中的时间依赖性。\n",
    "    它非常适合视频分类或时间序列预测等任务，\n",
    "    每个时间步都涉及图像数据。\n",
    "\n",
    "    参数：\n",
    "    - hidden_size（int）：LSTM隐藏状态下的要素数量。\n",
    "    - num_layers（int）：LSTM中循环层的数量。\n",
    "    - scalar_entry_size（int）：额外纯量输入的大小。\n",
    "    \"\"\"\n",
    "\n",
    "    def __init__(self, hidden_size=256, num_layers=5, scalar_input_size=9):\n",
    "        super(CNNLSTM, self).__init__()\n",
    "\n",
    "        # 定义用于空间特征提取的CNN层\n",
    "        self.conv1 = nn.Conv2d(in_channels=3, out_channels=64, kernel_size=3, stride=1, padding=1)\n",
    "        self.pool = nn.MaxPool2d(kernel_size=2, stride=2, padding=0)\n",
    "        self.conv2 = nn.Conv2d(64, 32, 3, padding=1)\n",
    "        self.pool2 = nn.MaxPool2d(kernel_size=2, stride=2, padding=0)\n",
    "\n",
    "        # 动态计算LSTM输入特征的大小\n",
    "        lstm_input_size = 32 * 32 * 32\n",
    "\n",
    "        self.lstm = nn.LSTM(input_size=lstm_input_size, hidden_size=hidden_size, num_layers=num_layers)\n",
    "\n",
    "        # 结合了来自LSTM和其它标量输入的功能\n",
    "        self.fc1 = nn.Linear(hidden_size + scalar_input_size, 64)\n",
    "        self.fc2 = nn.Linear(64, 1)\n",
    "\n",
    "    def forward(self, x_3d, scalar_inputs):\n",
    "        \"\"\"\n",
    "       CNN-LSTM模型的前传。\n",
    "\n",
    "        Args:\n",
    "        - x_3d (torch.Tensor): 包含一组图像序列的输入张量。\n",
    "                               Shape: （批量大小，分段长度，C，H，W）\n",
    "        - scalar_inputs (torch.Tensor): 每个序列的额外标量输入。\n",
    "                                        Shape: (批量大小，标量输入大小）\n",
    "\n",
    "        Returns:\n",
    "        - torch.Tensor: 模型的输出预测。\n",
    "        \"\"\"\n",
    "        hidden = None\n",
    "        batch_size, seq_length, _, _, _ = x_3d.size()\n",
    "\n",
    "        for t in range(seq_length):\n",
    "            x = F.relu(self.conv1(x_3d[:, t, :, :, :]))\n",
    "            x = self.pool(x)\n",
    "            x = F.relu(self.conv2(x))\n",
    "            x = self.pool2(x)\n",
    "            x = x.view(batch_size, -1)\n",
    "            out, hidden = self.lstm(x.unsqueeze(0), hidden)\n",
    "\n",
    "        # 将LST输出与标量输入相结合\n",
    "        combined = torch.cat((out[-1, :, :], scalar_inputs), dim=1)\n",
    "\n",
    "        x = F.relu(self.fc1(combined))\n",
    "        x = self.fc2(x)\n",
    "        return x\n"
   ]
  },
  {
   "cell_type": "code",
   "execution_count": 16,
   "id": "a77cef18-6f1b-4bfb-9c94-2aaadc76cfcb",
   "metadata": {},
   "outputs": [],
   "source": [
    "from torch import nn, optim\n",
    "import torch\n",
    "from tqdm import tqdm\n",
    "\n",
    "# 将标准定义为回归任务的根平均平方误差损失\n",
    "\n",
    "def rmse_loss(output, target):\n",
    "    \"\"\"\n",
    "    计算输出张量和目标张量之间的根平均平方误差.\n",
    "\n",
    "    Args:\n",
    "        output (torch.Tensor)\n",
    "        target (torch.Tensor)\n",
    "\n",
    "    Returns:\n",
    "        torch.Tensor: RMSE 缺失值\n",
    "    \"\"\"\n",
    "    return torch.sqrt(nn.MSELoss()(output, target))\n",
    "\n",
    "def train(model, optimizer, criterion, data_loader, device):\n",
    "   \n",
    "    model.train()\n",
    "    train_loss = 0\n",
    "\n",
    "    for X, W, y in tqdm(data_loader):\n",
    "        X, W, y = X.to(device), W.to(device), y.to(device)\n",
    "\n",
    "        optimizer.zero_grad()\n",
    "        output = model(X.view(-1, 10, 3, 128, 128), W.view(-1, 9)).squeeze()\n",
    "        y = y.float()\n",
    "        loss = criterion(output, y)\n",
    "\n",
    "        loss.backward()\n",
    "        optimizer.step()\n",
    "        train_loss += loss.item() * X.size(0)\n",
    "\n",
    "    return train_loss / len(data_loader.dataset)\n",
    "\n",
    "def validate(model, criterion, data_loader, device):\n",
    "   \n",
    "    model.eval()\n",
    "    validation_loss = 0\n",
    "\n",
    "    with torch.no_grad():\n",
    "        for X, W, y in data_loader:\n",
    "            X, W, y = X.to(device), W.to(device), y.to(device)\n",
    "            output = model(X.view(-1, 10, 3, 128, 128), W.view(-1, 9)).squeeze()\n",
    "            y = y.float()\n",
    "            loss = criterion(output, y)\n",
    "\n",
    "            validation_loss += loss.item() * X.size(0)\n",
    "\n",
    "    return validation_loss / len(data_loader.dataset)\n"
   ]
  },
  {
   "cell_type": "code",
   "execution_count": 19,
   "id": "d19a838b-5b0e-4f86-950a-80032184e6e9",
   "metadata": {},
   "outputs": [],
   "source": [
    "batch_size = 16\n",
    "test_batch_size = 32\n",
    "n_epochs = 1"
   ]
  },
  {
   "cell_type": "code",
   "execution_count": 22,
   "id": "0a492772-c8d9-4559-a746-cacd7a618c58",
   "metadata": {},
   "outputs": [
    {
     "name": "stderr",
     "output_type": "stream",
     "text": [
      "100%|██████████| 410/410 [01:21<00:00,  5.02it/s]\n"
     ]
    },
    {
     "name": "stdout",
     "output_type": "stream",
     "text": [
      "Epoch 1/10, Train Loss: 5.54706973981486\n",
      "Epoch 1/10, Validation Loss: 2.764340078311197\n"
     ]
    },
    {
     "name": "stderr",
     "output_type": "stream",
     "text": [
      "100%|██████████| 410/410 [01:33<00:00,  4.37it/s]\n"
     ]
    },
    {
     "name": "stdout",
     "output_type": "stream",
     "text": [
      "Epoch 2/10, Train Loss: 2.0241285320237714\n",
      "Epoch 2/10, Validation Loss: 2.0103720975568073\n"
     ]
    },
    {
     "name": "stderr",
     "output_type": "stream",
     "text": [
      "100%|██████████| 410/410 [01:27<00:00,  4.67it/s]\n"
     ]
    },
    {
     "name": "stdout",
     "output_type": "stream",
     "text": [
      "Epoch 3/10, Train Loss: 1.7292126492883144\n",
      "Epoch 3/10, Validation Loss: 1.2890228523101628\n"
     ]
    },
    {
     "name": "stderr",
     "output_type": "stream",
     "text": [
      "100%|██████████| 410/410 [01:25<00:00,  4.82it/s]\n"
     ]
    },
    {
     "name": "stdout",
     "output_type": "stream",
     "text": [
      "Epoch 4/10, Train Loss: 1.421256914213789\n",
      "Epoch 4/10, Validation Loss: 1.0619717673502767\n"
     ]
    },
    {
     "name": "stderr",
     "output_type": "stream",
     "text": [
      "100%|██████████| 410/410 [01:26<00:00,  4.76it/s]\n"
     ]
    },
    {
     "name": "stdout",
     "output_type": "stream",
     "text": [
      "Epoch 5/10, Train Loss: 1.1105433286901902\n",
      "Epoch 5/10, Validation Loss: 1.1179361982255718\n"
     ]
    },
    {
     "name": "stderr",
     "output_type": "stream",
     "text": [
      "100%|██████████| 410/410 [01:20<00:00,  5.09it/s]\n"
     ]
    },
    {
     "name": "stdout",
     "output_type": "stream",
     "text": [
      "Epoch 6/10, Train Loss: 0.8800112193942088\n",
      "Epoch 6/10, Validation Loss: 0.7211438105019299\n"
     ]
    },
    {
     "name": "stderr",
     "output_type": "stream",
     "text": [
      "100%|██████████| 410/410 [01:23<00:00,  4.91it/s]\n"
     ]
    },
    {
     "name": "stdout",
     "output_type": "stream",
     "text": [
      "Epoch 7/10, Train Loss: 0.7855583166854039\n",
      "Epoch 7/10, Validation Loss: 0.6426286257197916\n"
     ]
    },
    {
     "name": "stderr",
     "output_type": "stream",
     "text": [
      "100%|██████████| 410/410 [01:16<00:00,  5.39it/s]\n"
     ]
    },
    {
     "name": "stdout",
     "output_type": "stream",
     "text": [
      "Epoch 8/10, Train Loss: 0.7856116642167794\n",
      "Epoch 8/10, Validation Loss: 0.8706876778069037\n"
     ]
    },
    {
     "name": "stderr",
     "output_type": "stream",
     "text": [
      "100%|██████████| 410/410 [01:19<00:00,  5.17it/s]\n"
     ]
    },
    {
     "name": "stdout",
     "output_type": "stream",
     "text": [
      "Epoch 9/10, Train Loss: 0.7421448719576126\n",
      "Epoch 9/10, Validation Loss: 0.7715755573992735\n"
     ]
    },
    {
     "name": "stderr",
     "output_type": "stream",
     "text": [
      "100%|██████████| 410/410 [01:20<00:00,  5.12it/s]\n"
     ]
    },
    {
     "name": "stdout",
     "output_type": "stream",
     "text": [
      "Epoch 10/10, Train Loss: 0.7848262204516296\n",
      "Epoch 10/10, Validation Loss: 0.5457364561560578\n"
     ]
    }
   ],
   "source": [
    "def train_model(n_epochs):\n",
    "    \"\"\"\n",
    "    使用固定种子值训练CNN-LSTM模型，使用L1 Loss和Adam优化器。\n",
    "\n",
    "    Args:\n",
    "        n_epochs (int): 训练的总epoch次数。\n",
    "\n",
    "    Returns:\n",
    "        model: 训练好的模型。\n",
    "        train_loss_list (list): 每个epoch的训练损失列表。\n",
    "        val_loss_list (list): 每个epoch的验证损失列表。\n",
    "    \"\"\"\n",
    "    model = CNNLSTM().to(device)\n",
    "    set_seed(20)\n",
    "\n",
    "    optimizer = torch.optim.Adam(params=model.parameters(), lr=1e-3)\n",
    "    criterion = nn.L1Loss()\n",
    "\n",
    "    train_loader = DataLoader(train_dataset, batch_size=batch_size, shuffle=True, num_workers=0)\n",
    "    validation_loader = DataLoader(val_dataset, batch_size=test_batch_size, shuffle=False, num_workers=0)\n",
    "\n",
    "    train_loss_list = []\n",
    "    val_loss_list = []\n",
    "\n",
    "    for epoch in range(n_epochs):\n",
    "        # 训练\n",
    "        train_loss = train(model, optimizer, criterion, train_loader, device=device)\n",
    "        train_loss_list.append(train_loss)\n",
    "        print(f'Epoch {epoch+1}/{n_epochs}, Train Loss: {train_loss}')\n",
    "\n",
    "        # 验证\n",
    "        val_loss = validate(model, criterion, validation_loader, device=device)\n",
    "        val_loss_list.append(val_loss)\n",
    "        print(f'Epoch {epoch+1}/{n_epochs}, Validation Loss: {val_loss}')\n",
    "\n",
    "    return model, train_loss_list, val_loss_list\n",
    "\n",
    "# 使用示例\n",
    "n_epochs = 10  # 自定义 epoch 次数\n",
    "model, train_loss_list, val_loss_list = train_model(n_epochs)\n"
   ]
  },
  {
   "cell_type": "code",
   "execution_count": 26,
   "id": "6375ebfa-0623-4afc-a120-f57122e8ccfa",
   "metadata": {},
   "outputs": [],
   "source": [
    "torch.save(model.state_dict(), 'task2_model.pth')"
   ]
  },
  {
   "cell_type": "code",
   "execution_count": 28,
   "id": "a76481d3-53df-43ca-919d-8359d2d1a654",
   "metadata": {},
   "outputs": [
    {
     "data": {
      "image/png": "[encoded data removed]",
      "text/plain": [
       "<Figure size 1000x500 with 1 Axes>"
      ]
     },
     "metadata": {},
     "output_type": "display_data"
    }
   ],
   "source": [
    "import matplotlib.pyplot as plt\n",
    "\n",
    "def plot_loss(train_loss_list, val_loss_list):\n",
    "    \"\"\"\n",
    "    绘制训练损失和验证损失随着epoch的变化图表。\n",
    "\n",
    "    Args:\n",
    "        train_loss_list (list): 每个epoch的训练损失列表。\n",
    "        val_loss_list (list): 每个epoch的验证损失列表。\n",
    "    \"\"\"\n",
    "    epochs = range(1, len(train_loss_list) + 1)\n",
    "\n",
    "    plt.figure(figsize=(10, 5))\n",
    "    plt.plot(epochs, train_loss_list, label='Training Loss')\n",
    "    plt.plot(epochs, val_loss_list, label='Validation Loss')\n",
    "    plt.title('Training and Validation Loss')\n",
    "    plt.xlabel('Epoch')\n",
    "    plt.ylabel('Loss')\n",
    "    plt.legend()\n",
    "    plt.grid(True)\n",
    "    plt.show()\n",
    "\n",
    "# 使用示例\n",
    "plot_loss(train_loss_list, val_loss_list)\n"
   ]
  },
  {
   "cell_type": "code",
   "execution_count": 29,
   "id": "26a87e6a-f881-4249-ae32-19b860e5003d",
   "metadata": {},
   "outputs": [
    {
     "data": {
      "text/plain": [
       "<All keys matched successfully>"
      ]
     },
     "execution_count": 29,
     "metadata": {},
     "output_type": "execute_result"
    }
   ],
   "source": [
    "loaded_model = CNNLSTM()\n",
    "loaded_model.load_state_dict(torch.load('task2_model.pth'))"
   ]
  },
  {
   "cell_type": "code",
   "execution_count": 31,
   "id": "4b680145-4543-45b5-a0c0-4b170bad3dac",
   "metadata": {},
   "outputs": [],
   "source": [
    "loaded_model =loaded_model.to(device)\n",
    "\n",
    "predictions = []\n",
    "real = []\n",
    "for i in range(len(test_dataset)):\n",
    "  x = test_dataset[i][0]\n",
    "  x = x.view(-1, 10, 3, 128, 128).to(device)\n",
    "  w = test_dataset[i][1].view(1,9).to(device)\n",
    "  pr = loaded_model(x, w).squeeze().item()\n",
    "  r = test_dataset[i][2]\n",
    "  predictions.append(pr)\n",
    "  real.append(r)"
   ]
  },
  {
   "cell_type": "code",
   "execution_count": 32,
   "id": "10c25998-640c-41bf-a030-00b4082ca77e",
   "metadata": {},
   "outputs": [
    {
     "data": {
      "image/png": "[encoded data removed]",
      "text/plain": [
       "<Figure size 1000x600 with 1 Axes>"
      ]
     },
     "metadata": {},
     "output_type": "display_data"
    }
   ],
   "source": [
    "import numpy as np\n",
    "\n",
    "space = np.arange(0,100)\n",
    "\n",
    "fig, ax = plt.subplots(figsize=(10, 6))\n",
    "\n",
    "ax.scatter(space, predictions[0:100], color='green', marker='o', linestyle='-', label='Predictions')\n",
    "ax.scatter(space, real[0:100], color='purple', marker='o', linestyle='-', label='Original data')\n",
    "\n",
    "ax.legend()\n",
    "\n",
    "ax.grid(True, linestyle='--', alpha=0.5)\n",
    "\n",
    "ax.set_title('Original Data and Predictions')\n",
    "ax.set_xlabel('Time')\n",
    "ax.set_ylabel('Wind Speed')\n",
    "\n",
    "\n",
    "plt.show()\n"
   ]
  },
  {
   "cell_type": "code",
   "execution_count": 104,
   "id": "b7195409-ecc0-40e2-b48a-967275df0f5e",
   "metadata": {},
   "outputs": [],
   "source": [
    "class Storm_Dataset(Dataset):\n",
    "    \"\"\"\n",
    "    A custom dataset class for loading image data along with their associated\n",
    "    labels and features.\n",
    "\n",
    "    This class is designed to load data from a specified directory, handling\n",
    "    images and their associated\n",
    "    label and feature files. It splits the data into training and test sets\n",
    "    and supports basic transformations.\n",
    "\n",
    "    Attributes:\n",
    "        root (str): The root directory from which the data is loaded.\n",
    "        data (list): List of tuples containing paths to images and their\n",
    "        associated labels and features.\n",
    "        train_data (list): List of training data samples.\n",
    "        test_data (list): List of test data samples.\n",
    "\n",
    "    Args:\n",
    "        root (str): The directory path from where to load the data.\n",
    "        test_size (float, optional): Proportion of the dataset to include in\n",
    "        the test split. Defaults to 0.2.\n",
    "        seed (int, optional): Random seed for splitting the dataset.\n",
    "        Defaults to 42.\n",
    "    \"\"\"\n",
    "\n",
    "    def __init__(self, root,\n",
    "                 test_size=0.2, seed=42, split_method='random', split='none'):\n",
    "        self.root = root\n",
    "        all_data = self._get_image_paths()\n",
    "        self.data = all_data\n",
    "        # Splitting the dataset into training and testing\n",
    "        # Also allows for no split for data analysis\n",
    "        if split_method == 'random':\n",
    "            train, test = train_test_split(\n",
    "                all_data, test_size=test_size, random_state=seed)\n",
    "            if split == 'train':\n",
    "                self.data = train\n",
    "            elif split == 'test':\n",
    "                self.data = test\n",
    "        elif split_method == 'time':\n",
    "            split_index = math.floor(self.__len__() * 0.7)\n",
    "            train = self.data[:split_index]\n",
    "            test = self.data[split_index:]\n",
    "            if split == 'train':\n",
    "                self.data = train\n",
    "            elif split == 'test':\n",
    "                self.data = test\n",
    "\n",
    "    def _get_image_paths(self, exts=(\".jpg\")):\n",
    "        \"\"\"\n",
    "        Private method to scan the directory and gather image paths along with\n",
    "        their label and feature data.\n",
    "\n",
    "        This method walks through the directory, finds images with specified\n",
    "        extensions, and attempts to locate corresponding label and feature\n",
    "        files. It handles basic exceptions related to image loading.\n",
    "\n",
    "        Args:\n",
    "            exts (tuple of str, optional): File extensions to consider for\n",
    "            images. Defaults to (\".jpg\").\n",
    "\n",
    "        Returns:\n",
    "            list: A list of tuples, each containing paths to an image, its\n",
    "            label, and features.\n",
    "        \"\"\"\n",
    "        data = []\n",
    "        for root, dirs, files in os.walk(self.root):\n",
    "            for file in files:\n",
    "                if file.endswith(exts):\n",
    "                    path = os.path.join(root, file)\n",
    "                    num_path = path.removesuffix('.jpg')\n",
    "\n",
    "                    try:\n",
    "                        label_path = num_path + \"_label.json\"\n",
    "                        features_path = num_path + \"_features.json\"\n",
    "                        label, storm_id, time, ocean = None, None, None, None\n",
    "                        if os.path.exists(label_path):\n",
    "                            with open(label_path, 'r') as f:\n",
    "                                label_data = json.load(f)\n",
    "                                label = int(label_data['wind_speed'])\n",
    "\n",
    "                        if os.path.exists(features_path):\n",
    "                            with open(features_path, 'r') as f:\n",
    "                                features_data = json.load(f)\n",
    "                                storm_id = features_data['storm_id']\n",
    "                                time = int(features_data['relative_time'])\n",
    "                                ocean = int(features_data['ocean'])\n",
    "\n",
    "                        data.append((path, label, storm_id, time, ocean))\n",
    "                    except UnidentifiedImageError:\n",
    "                        print('image error')\n",
    "                        pass\n",
    "        data.sort(key=itemgetter(3))\n",
    "        return data\n",
    "\n",
    "    def __getitem__(self, idx):\n",
    "        \"\"\"\n",
    "        Returns a single data sample at the specified index.\n",
    "\n",
    "        This method reads the image from the disk, applies transformations if\n",
    "        required, and returns it along with its label and features.\n",
    "\n",
    "        Args:\n",
    "            idx (int): The index of the data sample to retrieve.\n",
    "\n",
    "        Returns:\n",
    "            tuple: A tuple containing the transformed image, label, and\n",
    "            features of the sample.\n",
    "        \"\"\"\n",
    "        img_path, label,  storm_id, time, ocean = self.data[idx]\n",
    "        img = Image.open(img_path)\n",
    "        img = img.convert('L')\n",
    "        img = ToTensor()(img)\n",
    "        img = Resize((256,256))(img)\n",
    "        return img, label\n",
    "\n",
    "    def __len__(self):\n",
    "        \"\"\"\n",
    "        Returns the total number of samples in the dataset.\n",
    "\n",
    "        Returns:\n",
    "            int: The number of samples in the dataset.\n",
    "        \"\"\"\n",
    "        return len(self.data)\n",
    "\n",
    "    def __str__(self):\n",
    "        \"\"\"\n",
    "        Returns a string representation of the dataset object.\n",
    "\n",
    "        Provides a summary of the dataset including its length and other\n",
    "        attributes except the raw data.\n",
    "\n",
    "        Returns:\n",
    "            str: A string summarizing the dataset.\n",
    "        \"\"\"\n",
    "        class_string = self.__class__.__name__\n",
    "        class_string += f\"\\n\\tlen : {self.__len__()}\"\n",
    "        for key, value in self.__dict__.items():\n",
    "            if key != \"data\":\n",
    "                class_string += f\"\\n\\t{key} : {value}\"\n",
    "        return class_string"
   ]
  },
  {
   "cell_type": "code",
   "execution_count": 105,
   "id": "d8159798-4312-4b19-b235-db2d269a8001",
   "metadata": {},
   "outputs": [],
   "source": [
    "class ImageRegressionCNN(nn.Module):\n",
    "    def __init__(self):\n",
    "        super(ImageRegressionCNN, self).__init__()\n",
    "        self.conv1 = nn.Conv2d(1, 32, kernel_size=3, stride=1, padding=1)\n",
    "        self.act1 = nn.LeakyReLU(0.2)\n",
    "        self.pool1 = nn.MaxPool2d(kernel_size=2, stride=2)\n",
    "        self.conv2_5 = nn.Conv2d(32, 32, kernel_size=3, stride=1, padding=1)\n",
    "        self.conv2 = nn.Conv2d(32, 64, kernel_size=3, stride=1, padding=1)\n",
    "        self.act2 = nn.LeakyReLU(0.2)\n",
    "        self.pool2 = nn.MaxPool2d(kernel_size=2, stride=2)\n",
    "        self.flatten = nn.Flatten()\n",
    "\n",
    "        # Calculate the correct input size\n",
    "        self.fc1_input_size = 64 * 64 * 64\n",
    "        self.fc1 = nn.Linear(self.fc1_input_size, 128)\n",
    "        self.act3 = nn.ReLU()\n",
    "        self.fc2 = nn.Linear(128, 64)\n",
    "        self.fc3 = nn.Linear(64, 1)\n",
    "\n",
    "\n",
    "    def forward(self, x):\n",
    "        x = self.pool1(self.act1(self.conv1(x)))\n",
    "        x = self.act2(self.conv2_5(x))\n",
    "        x = self.pool2(self.act2(self.conv2(x)))\n",
    "        x = self.flatten(x)\n",
    "        x = self.act2(self.fc1(x))\n",
    "        x = self.fc2(x)\n",
    "        x = self.fc3(self.act3(x))\n",
    "        return x"
   ]
  },
  {
   "cell_type": "code",
   "execution_count": 176,
   "id": "efb4911b-6ff3-4b5e-8038-d0d7bcca07e5",
   "metadata": {},
   "outputs": [],
   "source": [
    "storm_list=['hig', 'gme', 'woc', 'blq', 'kqu', 'wsy', 'ipa', 'ztb', 'qpq', 'pjj']"
   ]
  },
  {
   "cell_type": "code",
   "execution_count": 177,
   "id": "7492b8bf-1a73-4644-81bd-8741ec353c09",
   "metadata": {},
   "outputs": [],
   "source": [
    "import StormForcast"
   ]
  },
  {
   "cell_type": "code",
   "execution_count": 178,
   "id": "6b9ec48b-eb93-45b3-b588-8942f5080151",
   "metadata": {},
   "outputs": [
    {
     "name": "stdout",
     "output_type": "stream",
     "text": [
      "setting basic parameters ......\n",
      "done\n",
      "setting hyperparameters ......\n",
      "done\n",
      "initializing model, optimier, criterion ......\n",
      "done\n",
      "loading data ......\n"
     ]
    },
    {
     "name": "stderr",
     "output_type": "stream",
     "text": [
      "Loading Data:  93%|█████████▎| 2823/3050 [00:00<00:00, 18229.42it/s]\n"
     ]
    },
    {
     "name": "stdout",
     "output_type": "stream",
     "text": [
      "done\n"
     ]
    }
   ],
   "source": [
    "cnn_model = StormForcast.Train_Validate('storm', task='WindSpeed', device='cuda',\n",
    "                                        batch_size_train=32, batch_size_val=1000, batch_size_test=1000,\n",
    "                                        lr=2e-3, epoch=30, split_method='random', num_storms=10)"
   ]
  },
  {
   "cell_type": "code",
   "execution_count": 179,
   "id": "e9f97a81-f7c1-446f-9ec9-1d90f5ca51ba",
   "metadata": {},
   "outputs": [
    {
     "data": {
      "image/png": "[encoded data removed]",
      "text/plain": [
       "<Figure size 1200x800 with 2 Axes>"
      ]
     },
     "metadata": {},
     "output_type": "display_data"
    },
    {
     "name": "stdout",
     "output_type": "stream",
     "text": [
      "log loss\n",
      "\ttraining         \t (min:    7.182, max: 1139.341, cur:   44.772)\n",
      "\tvalidation       \t (min:   14.433, max:  530.649, cur:   25.653)\n"
     ]
    }
   ],
   "source": [
    "cnn_model.train_whole()"
   ]
  },
  {
   "cell_type": "code",
   "execution_count": 164,
   "id": "bcfeb4f7-a894-426d-b298-3572439f07bf",
   "metadata": {},
   "outputs": [],
   "source": [
    "torch.save({'model_state_dict': cnn_model.model.state_dict(),\n",
    "            'optimizer_state_dict': cnn_model.optimizer.state_dict(),\n",
    "            }, 'general_model.pth')"
   ]
  },
  {
   "cell_type": "code",
   "execution_count": null,
   "id": "1b74412d-60dd-4cc0-b868-9507a03d75e8",
   "metadata": {},
   "outputs": [],
   "source": [
    "surprise_model = StormForcast.Train_Validate('./tst/tst', task='WindSpeed', device='cuda',\n",
    "                                        batch_size_train=135, batch_size_val=100, batch_size_test=100,\n",
    "                                        lr=2e-11, epoch=30, weight_decay=1e-1, split_method='random', num_storms=1, surprise_storm=True,\n",
    "                                    resume=True, resume_path='CNNGeneral_epoch_11__2024-06-07_22-30-41.pth')\n",
    "surprise_model.draw_result(type='predict')\n",
    "surprise_model.predict()"
   ]
  }
 ],
 "metadata": {
  "kernelspec": {
   "display_name": "Python 3 (ipykernel)",
   "language": "python",
   "name": "python3"
  },
  "language_info": {
   "codemirror_mode": {
    "name": "ipython",
    "version": 3
   },
   "file_extension": ".py",
   "mimetype": "text/x-python",
   "name": "python",
   "nbconvert_exporter": "python",
   "pygments_lexer": "ipython3",
   "version": "3.9.13"
  }
 },
 "nbformat": 4,
 "nbformat_minor": 5
}
